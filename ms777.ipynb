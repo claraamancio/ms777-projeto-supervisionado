{
  "nbformat": 4,
  "nbformat_minor": 0,
  "metadata": {
    "colab": {
      "provenance": []
    },
    "kernelspec": {
      "name": "python3",
      "display_name": "Python 3"
    },
    "language_info": {
      "name": "python"
    }
  },
  "cells": [
    {
      "cell_type": "markdown",
      "source": [
        "# **Importando as Bibliotecas**"
      ],
      "metadata": {
        "id": "00PhJI0OR_qt"
      }
    },
    {
      "cell_type": "code",
      "source": [
        "import cv2 as cv\n",
        "import numpy as np\n",
        "import matplotlib.pyplot as plt\n",
        "from imageio import imread\n",
        "import cvxpy as cp\n",
        "from skimage.util import random_noise as imnoise\n",
        "from skimage.metrics import structural_similarity as ssim\n",
        "from skimage.metrics import peak_signal_noise_ratio as dsnr"
      ],
      "metadata": {
        "id": "42ekUzQOSFRt"
      },
      "execution_count": null,
      "outputs": []
    },
    {
      "cell_type": "markdown",
      "source": [
        "# **Subindo Imagens e tranformando em Tons de Cinza**"
      ],
      "metadata": {
        "id": "oro1-hbPR_12"
      }
    },
    {
      "cell_type": "code",
      "execution_count": null,
      "metadata": {
        "id": "ikxvIntLR9Aa"
      },
      "outputs": [],
      "source": [
        "ICA = imread('imageio:coffee.png')\n",
        "ICB = imread('imageio:chelsea.png')\n",
        "ICC = imread('imageio:hubble_deep_field.png')\n",
        "ICD = imread('imageio:immunohistochemistry.png')\n",
        "ICE = imread('imageio:wikkie.png')\n",
        "ICF = imread('imageio:astronaut.png')\n",
        "A = cv.cvtColor(ICA, cv.COLOR_BGR2GRAY)\n",
        "B = cv.cvtColor(ICB, cv.COLOR_BGR2GRAY)\n",
        "C = cv.cvtColor(ICC, cv.COLOR_BGR2GRAY)\n",
        "D = cv.cvtColor(ICD, cv.COLOR_BGR2GRAY)\n",
        "E = cv.cvtColor(ICE, cv.COLOR_BGR2GRAY)\n",
        "F = cv.cvtColor(ICF, cv.COLOR_BGR2GRAY)"
      ]
    },
    {
      "cell_type": "markdown",
      "source": [
        "# **Medida de Irregularidade**"
      ],
      "metadata": {
        "id": "yZgPYwBbR_5z"
      }
    },
    {
      "cell_type": "code",
      "source": [
        "def irregularidade(I,J):\n",
        "  hI = cv.calcHist([I], [0], None, [256], [0, 256])\n",
        "  hJ = cv.calcHist([J], [0], None, [256], [0, 256])\n",
        "\n",
        "  c = np.zeros((256,256))\n",
        "\n",
        "  for i in range(256):\n",
        "    for j in range(256):\n",
        "      c[i,j] = abs(i-j)\n",
        "\n",
        "  x = cp.Variable((256,256), nonneg=True)\n",
        "  obj = cp.Minimize(cp.sum(cp.multiply(c, x)))\n",
        "  r = [cp.sum(x, axis=1) == hI.flatten(), cp.sum(x, axis=0) == hJ.flatten()]\n",
        "  prob = cp.Problem(obj, r)\n",
        "  dW = prob.solve()\n",
        "\n",
        "  d = np.sum(np.abs(1.0*I-1.0*J))\n",
        "\n",
        "  valor = (d-dW)/d\n",
        "\n",
        "  return valor"
      ],
      "metadata": {
        "id": "MdDNXpnRSb8J"
      },
      "execution_count": null,
      "outputs": []
    },
    {
      "cell_type": "markdown",
      "source": [
        "# **Medida de Irregularidade para imagens com Ruído Gaussiano**"
      ],
      "metadata": {
        "id": "JjZpgwq2R_9N"
      }
    },
    {
      "cell_type": "code",
      "source": [
        "def gaussiano(I):\n",
        "  X1 = []\n",
        "  Y1 = []\n",
        "\n",
        "  for k in 10**(np.linspace(-5, np.log10(0.5), num=51)):\n",
        "    J = (255*(imnoise(I, mode = \"gaussian\", var = k))).astype(np.uint8)\n",
        "    y1 = irregularidade(I,J)\n",
        "    x1 = k\n",
        "\n",
        "    X1.append(x1)\n",
        "    Y1.append(y1)\n",
        "\n",
        "  return X1,Y1"
      ],
      "metadata": {
        "id": "qE7tlWCTSo1_"
      },
      "execution_count": null,
      "outputs": []
    },
    {
      "cell_type": "markdown",
      "source": [
        "# **Medida de Irregularidade para imagens com Ruído Sal e Pimenta**"
      ],
      "metadata": {
        "id": "s7Rg6p3ESAAz"
      }
    },
    {
      "cell_type": "code",
      "source": [
        "def sap(I):\n",
        "  X2 = []\n",
        "  Y2 = []\n",
        "\n",
        "  for k in 10**(np.linspace(-5, np.log10(0.5), num=51)):\n",
        "    J = (255*(imnoise(I, mode = \"s&p\", amount = k))).astype(np.uint8)\n",
        "    y2 = irregularidade(I,J)\n",
        "    x2 = k\n",
        "\n",
        "    X2.append(x2)\n",
        "    Y2.append(y2)\n",
        "\n",
        "  return X2,Y2"
      ],
      "metadata": {
        "id": "81jr8eOnSpiv"
      },
      "execution_count": null,
      "outputs": []
    },
    {
      "cell_type": "markdown",
      "source": [
        "# **SSIM para imagens com Ruído Gaussiano**"
      ],
      "metadata": {
        "id": "nv9HAR4iS9EP"
      }
    },
    {
      "cell_type": "code",
      "source": [
        "def gaussianossim(I):\n",
        "  X3 = []\n",
        "  Y3 = []\n",
        "\n",
        "  for k in 10**(np.linspace(-5, np.log10(0.5), num=51)):\n",
        "    J = (255*(imnoise(I, mode = \"gaussian\", var = k))).astype(np.uint8)\n",
        "    y3 = ssim(I, J)\n",
        "    x3 = k\n",
        "\n",
        "    X3.append(x3)\n",
        "    Y3.append(y3)\n",
        "\n",
        "  return X3,Y3"
      ],
      "metadata": {
        "id": "xeffxM2jS8OK"
      },
      "execution_count": null,
      "outputs": []
    },
    {
      "cell_type": "markdown",
      "source": [
        "# **SSIM para imagens com Ruído Sal e Pimenta**"
      ],
      "metadata": {
        "id": "_Dr-wGDbS9yv"
      }
    },
    {
      "cell_type": "code",
      "source": [
        "def sapssim(I):\n",
        "  X5 = []\n",
        "  Y5 = []\n",
        "\n",
        "  for k in 10**(np.linspace(-5, np.log10(0.5), num=51)):\n",
        "    J = (255*(imnoise(I, mode = \"s&p\", amount = k))).astype(np.uint8)\n",
        "    y5 = ssim(I, J)\n",
        "    x5 = k\n",
        "\n",
        "    X5.append(x5)\n",
        "    Y5.append(y5)\n",
        "\n",
        "  return X5,Y5"
      ],
      "metadata": {
        "id": "QcxzsAguS8at"
      },
      "execution_count": null,
      "outputs": []
    },
    {
      "cell_type": "markdown",
      "source": [
        "# **PSNR para imagens com Ruído Gaussiano**"
      ],
      "metadata": {
        "id": "OZ863AsUS-dV"
      }
    },
    {
      "cell_type": "code",
      "source": [
        "def gaussianopsnr(I):\n",
        "  X4 = []\n",
        "  Y4 = []\n",
        "\n",
        "  for k in 10**(np.linspace(-5, np.log10(0.5), num=51)):\n",
        "    J = (255*(imnoise(I, mode = \"gaussian\", var = k))).astype(np.uint8)\n",
        "    y4 = dsnr(I, J, data_range=None)\n",
        "    x4 = k\n",
        "\n",
        "    X4.append(x4)\n",
        "    Y4.append(y4)\n",
        "\n",
        "  return X4,Y4"
      ],
      "metadata": {
        "id": "8zamKmbdS8eG"
      },
      "execution_count": null,
      "outputs": []
    },
    {
      "cell_type": "markdown",
      "source": [
        "# **PSNR para imagens com Ruído Sal e Pimenta**"
      ],
      "metadata": {
        "id": "Mmp3uy48S_E1"
      }
    },
    {
      "cell_type": "code",
      "source": [
        "def sappsnr(I):\n",
        "  X6 = []\n",
        "  Y6 = []\n",
        "\n",
        "  for k in 10**(np.linspace(-5, np.log10(0.5), num=51)):\n",
        "    J = (255*(imnoise(I, mode = \"s&p\", amount = k))).astype(np.uint8)\n",
        "    y6 = dsnr(I, J, data_range=None)\n",
        "    x6 = k\n",
        "\n",
        "    X6.append(x6)\n",
        "    Y6.append(y6)\n",
        "\n",
        "  return X6,Y6"
      ],
      "metadata": {
        "id": "TQgeZLLYS8ho"
      },
      "execution_count": null,
      "outputs": []
    },
    {
      "cell_type": "markdown",
      "source": [
        "# **Aplicando as funções nas Imagens**"
      ],
      "metadata": {
        "id": "2XjvIWFvTmRg"
      }
    },
    {
      "cell_type": "code",
      "source": [
        "X11, Y11 = gaussiano(A)\n",
        "X12, Y12 = gaussiano(B)\n",
        "X13, Y13 = gaussiano(C)\n",
        "X14, Y14 = gaussiano(D)\n",
        "X15, Y15 = gaussiano(E)\n",
        "X16, Y16 = gaussiano(F)"
      ],
      "metadata": {
        "id": "m9W97q-cTl0-"
      },
      "execution_count": null,
      "outputs": []
    },
    {
      "cell_type": "code",
      "source": [
        "X21, Y21 = sap(A)\n",
        "X22, Y22 = sap(B)\n",
        "X23, Y23 = sap(C)\n",
        "X24, Y24 = sap(D)\n",
        "X25, Y25 = sap(E)\n",
        "X26, Y26 = sap(F)"
      ],
      "metadata": {
        "id": "sCZ8nPc6TxJP"
      },
      "execution_count": null,
      "outputs": []
    },
    {
      "cell_type": "code",
      "source": [
        "X31, Y31 = gaussianossim(A)\n",
        "X32, Y32 = gaussianossim(B)\n",
        "X33, Y33 = gaussianossim(C)\n",
        "X34, Y34 = gaussianossim(D)\n",
        "X35, Y35 = gaussianossim(E)\n",
        "X36, Y36 = gaussianossim(F)"
      ],
      "metadata": {
        "id": "iheomTpnTxPc"
      },
      "execution_count": null,
      "outputs": []
    },
    {
      "cell_type": "code",
      "source": [
        "X41, Y41 = gaussianopsnr(A)\n",
        "X42, Y42 = gaussianopsnr(B)\n",
        "X43, Y43 = gaussianopsnr(C)\n",
        "X44, Y44 = gaussianopsnr(D)\n",
        "X45, Y45 = gaussianopsnr(E)\n",
        "X46, Y46 = gaussianopsnr(F)"
      ],
      "metadata": {
        "id": "_am0PkRETxS3"
      },
      "execution_count": null,
      "outputs": []
    },
    {
      "cell_type": "code",
      "source": [
        "X51, Y51 = sapssim(A)\n",
        "X52, Y52 = sapssim(B)\n",
        "X53, Y53 = sapssim(C)\n",
        "X54, Y54 = sapssim(D)\n",
        "X55, Y55 = sapssim(E)\n",
        "X56, Y56 = sapssim(F)"
      ],
      "metadata": {
        "id": "8-oVxWhPT9w3"
      },
      "execution_count": null,
      "outputs": []
    },
    {
      "cell_type": "code",
      "source": [
        "X61, Y61 = sappsnr(A)\n",
        "X62, Y62 = sappsnr(B)\n",
        "X63, Y63 = sappsnr(C)\n",
        "X64, Y64 = sappsnr(D)\n",
        "X65, Y65 = sappsnr(E)\n",
        "X66, Y66 = sappsnr(F)"
      ],
      "metadata": {
        "id": "yNblPyW1T93U"
      },
      "execution_count": null,
      "outputs": []
    },
    {
      "cell_type": "markdown",
      "source": [
        "# **Plotando os resultados - Medida de Irregularidade**"
      ],
      "metadata": {
        "id": "oWd-wYYoUIs-"
      }
    },
    {
      "cell_type": "code",
      "source": [
        "plt.plot(X11,Y11, color ='r', label='Imagem A')\n",
        "plt.plot(X12,Y12, color ='b', label='Imagem B')\n",
        "plt.plot(X13,Y13, color ='g', label='Imagem C')\n",
        "plt.plot(X14,Y14, color ='m', label='Imagem D')\n",
        "plt.plot(X15,Y15, color ='y', label='Imagem E')\n",
        "plt.plot(X16,Y16, color ='c', label='Imagem F')\n",
        "plt.xscale(\"log\")\n",
        "plt.xlabel('Variância')\n",
        "plt.ylabel('Irregularidade')\n",
        "plt.title('Medida de Irregularidade de Imagens com Ruído Gaussiano')\n",
        "plt.grid()\n",
        "plt.show()"
      ],
      "metadata": {
        "id": "RQ2kxnsNUISf"
      },
      "execution_count": null,
      "outputs": []
    },
    {
      "cell_type": "code",
      "source": [
        "plt.plot(X21,Y21, color ='r', label='Imagem A')\n",
        "plt.plot(X22,Y22, color ='b', label='Imagem B')\n",
        "plt.plot(X23,Y23, color ='g', label='Imagem C')\n",
        "plt.plot(X24,Y24, color ='m', label='Imagem D')\n",
        "plt.plot(X25,Y25, color ='y', label='Imagem E')\n",
        "plt.plot(X26,Y26, color ='c', label='Imagem F')\n",
        "plt.xscale(\"log\")\n",
        "plt.xlabel('Amount')\n",
        "plt.ylabel('Irregularidade')\n",
        "plt.title('Medida de Irregularidade de Imagens com Ruído Sal e Pimenta')\n",
        "plt.grid()\n",
        "plt.show()"
      ],
      "metadata": {
        "id": "0HU_kvnbUNqa"
      },
      "execution_count": null,
      "outputs": []
    },
    {
      "cell_type": "markdown",
      "source": [
        "# **Plotando os resultados - SSIM**"
      ],
      "metadata": {
        "id": "TEEUHELsUxvz"
      }
    },
    {
      "cell_type": "code",
      "source": [
        "plt.plot(X31,Y31, color ='r', label='Imagem A')\n",
        "plt.plot(X32,Y32, color ='b', label='Imagem B')\n",
        "plt.plot(X33,Y33, color ='g', label='Imagem C')\n",
        "plt.plot(X34,Y34, color ='m', label='Imagem D')\n",
        "plt.plot(X35,Y35, color ='y', label='Imagem E')\n",
        "plt.plot(X36,Y36, color ='c', label='Imagem F')\n",
        "plt.xscale(\"log\")\n",
        "plt.xlabel('Variância')\n",
        "plt.ylabel('Structural Similarity Index')\n",
        "plt.title('Structural Similarity Index de Imagens com Ruído Gaussiano')\n",
        "plt.grid()\n",
        "plt.show()"
      ],
      "metadata": {
        "id": "pL2DxdZpUNt0"
      },
      "execution_count": null,
      "outputs": []
    },
    {
      "cell_type": "code",
      "source": [
        "plt.plot(X51,Y51, color ='r', label='Imagem A')\n",
        "plt.plot(X52,Y52, color ='b', label='Imagem B')\n",
        "plt.plot(X53,Y53, color ='g', label='Imagem C')\n",
        "plt.plot(X54,Y54, color ='m', label='Imagem D')\n",
        "plt.plot(X55,Y55, color ='y', label='Imagem E')\n",
        "plt.plot(X56,Y56, color ='c', label='Imagem F')\n",
        "plt.xscale(\"log\")\n",
        "plt.xlabel('Amount')\n",
        "plt.ylabel('Structural Similarity Index')\n",
        "plt.title('Structural Similarity Index de Imagens com Ruído Sal e Pimenta')\n",
        "plt.grid()\n",
        "plt.show()"
      ],
      "metadata": {
        "id": "0Upyxb2cUa9M"
      },
      "execution_count": null,
      "outputs": []
    },
    {
      "cell_type": "markdown",
      "source": [
        "# **Plotando os resultados - PSNR**"
      ],
      "metadata": {
        "id": "P9rEblZEU2w_"
      }
    },
    {
      "cell_type": "code",
      "source": [
        "plt.plot(X41,Y41, color ='r', label='Imagem A')\n",
        "plt.plot(X42,Y42, color ='b', label='Imagem B')\n",
        "plt.plot(X43,Y43, color ='g', label='Imagem C')\n",
        "plt.plot(X44,Y44, color ='m', label='Imagem D')\n",
        "plt.plot(X45,Y45, color ='y', label='Imagem E')\n",
        "plt.plot(X46,Y46, color ='c', label='Imagem F')\n",
        "plt.xscale(\"log\")\n",
        "plt.xlabel('Variância')\n",
        "plt.ylabel('Peak Signal-to-Noise Ratio')\n",
        "plt.title('Peak Signal-to-Noise Ratio de Imagens com Ruído Gaussiano')\n",
        "plt.grid()\n",
        "plt.show()"
      ],
      "metadata": {
        "id": "lxK-Kh4CUNx1"
      },
      "execution_count": null,
      "outputs": []
    },
    {
      "cell_type": "code",
      "source": [
        "plt.plot(X61,Y61, color ='r', label='Imagem A')\n",
        "plt.plot(X62,Y62, color ='b', label='Imagem B')\n",
        "plt.plot(X63,Y63, color ='g', label='Imagem C')\n",
        "plt.plot(X64,Y64, color ='m', label='Imagem D')\n",
        "plt.plot(X65,Y65, color ='y', label='Imagem E')\n",
        "plt.plot(X66,Y66, color ='c', label='Imagem F')\n",
        "plt.xscale(\"log\")\n",
        "plt.xlabel('Amount')\n",
        "plt.ylabel('Peak Signal-to-Noise Ratio')\n",
        "plt.title('Peak Signal-to-Noise Ratio de Imagens com Ruído Sal e Pimenta')\n",
        "plt.grid()\n",
        "plt.show()"
      ],
      "metadata": {
        "id": "Vraxn9nrUejl"
      },
      "execution_count": null,
      "outputs": []
    },
    {
      "cell_type": "markdown",
      "source": [
        "# **Medida de Irregularidade VS SSIM**"
      ],
      "metadata": {
        "id": "G_46vyqBUl6g"
      }
    },
    {
      "cell_type": "code",
      "source": [
        "plt.scatter(Y11,Y31, color = 'r')\n",
        "plt.scatter(Y12,Y32, color = 'b')\n",
        "plt.scatter(Y13,Y33, color = 'g')\n",
        "plt.scatter(Y14,Y34, color = 'm')\n",
        "plt.scatter(Y15,Y35, color = 'y')\n",
        "plt.scatter(Y16,Y36, color = 'c')\n",
        "plt.xlabel('Irregularidade')\n",
        "plt.ylabel('Structural Similarity Index')\n",
        "plt.title('Irregularidade VS SSIM de Imagens com Ruído Gaussiano')\n",
        "plt.grid()"
      ],
      "metadata": {
        "id": "Ma0bZzcYUgGD"
      },
      "execution_count": null,
      "outputs": []
    },
    {
      "cell_type": "code",
      "source": [
        "plt.scatter(Y21,Y51, color = 'r')\n",
        "plt.scatter(Y22,Y52, color = 'b')\n",
        "plt.scatter(Y23,Y53, color = 'g')\n",
        "plt.scatter(Y24,Y54, color = 'm')\n",
        "plt.scatter(Y25,Y55, color = 'y')\n",
        "plt.scatter(Y26,Y56, color = 'c')\n",
        "plt.xlabel('Irregularidade')\n",
        "plt.ylabel('Structural Similarity Index')\n",
        "plt.title('Irregularidade VS SSIM de Imagens com Ruído Sal e Pimenta')\n",
        "plt.grid()"
      ],
      "metadata": {
        "id": "6BfVlDjBUk2r"
      },
      "execution_count": null,
      "outputs": []
    }
  ]
}